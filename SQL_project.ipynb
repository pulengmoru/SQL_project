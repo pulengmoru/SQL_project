{
 "cells": [
  {
   "cell_type": "markdown",
   "metadata": {},
   "source": [
    "## SQL Project\n",
    "SQL is a standard language used to store extracy and manipulate data in a database. In this project we learn about the different functions and commands that allow the manipulation of data to take place. We also learn how to create tables using the SQL command found on the localhost.\n"
   ]
  },
  {
   "cell_type": "code",
   "execution_count": 2,
   "metadata": {},
   "outputs": [],
   "source": [
    "import pandas as pd\n",
    "import psycopg2\n",
    "import sqlalchemy\n",
    "from sqlalchemy.engine import create_engine\n",
    "import config"
   ]
  },
  {
   "cell_type": "code",
   "execution_count": 3,
   "metadata": {},
   "outputs": [],
   "source": [
    "conn = psycopg2.connect(host=\"localhost\", database=\"umuzi\", user=\"user\", password=\"pass\")\n",
    "cur = conn.cursor()"
   ]
  },
  {
   "cell_type": "code",
   "execution_count": 4,
   "metadata": {},
   "outputs": [],
   "source": [
    "def create_pandas_table(sql_query, database = conn):\n",
    "    table = pd.read_sql_query(sql_query, database)\n",
    "    return table"
   ]
  },
  {
   "cell_type": "code",
   "execution_count": null,
   "metadata": {},
   "outputs": [],
   "source": []
  },
  {
   "cell_type": "markdown",
   "metadata": {},
   "source": [
    "# Part 1: Creating a database\n",
    "\n",
    "Save all of your instructions in a script file - you will submit this file on Gnomio and github.\n",
    "\n",
    "Create a database called “Umuzi”.\n",
    "\n",
    "Create the following tables in the Umuzi database:\n",
    "Customers\n",
    "Employees\n",
    "Orders\n",
    "Payments\n",
    "Products\n"
   ]
  },
  {
   "cell_type": "code",
   "execution_count": 5,
   "metadata": {},
   "outputs": [
    {
     "data": {
      "text/html": [
       "<div>\n",
       "<style scoped>\n",
       "    .dataframe tbody tr th:only-of-type {\n",
       "        vertical-align: middle;\n",
       "    }\n",
       "\n",
       "    .dataframe tbody tr th {\n",
       "        vertical-align: top;\n",
       "    }\n",
       "\n",
       "    .dataframe thead th {\n",
       "        text-align: right;\n",
       "    }\n",
       "</style>\n",
       "<table border=\"1\" class=\"dataframe\">\n",
       "  <thead>\n",
       "    <tr style=\"text-align: right;\">\n",
       "      <th></th>\n",
       "      <th>customerid</th>\n",
       "      <th>firstname</th>\n",
       "      <th>lastname</th>\n",
       "      <th>gender</th>\n",
       "      <th>address</th>\n",
       "      <th>phone</th>\n",
       "      <th>email</th>\n",
       "      <th>City</th>\n",
       "      <th>Country</th>\n",
       "    </tr>\n",
       "  </thead>\n",
       "  <tbody>\n",
       "    <tr>\n",
       "      <th>0</th>\n",
       "      <td>1</td>\n",
       "      <td>John</td>\n",
       "      <td>Hibert</td>\n",
       "      <td>Male</td>\n",
       "      <td>284 chaucer st</td>\n",
       "      <td>84789657</td>\n",
       "      <td>john@gmail.com</td>\n",
       "      <td>Johannesburg</td>\n",
       "      <td>South Africa</td>\n",
       "    </tr>\n",
       "    <tr>\n",
       "      <th>1</th>\n",
       "      <td>2</td>\n",
       "      <td>Thando</td>\n",
       "      <td>Sithole</td>\n",
       "      <td>Female</td>\n",
       "      <td>Clerk</td>\n",
       "      <td>794445584</td>\n",
       "      <td>thando@gmail.com</td>\n",
       "      <td>Cape Town</td>\n",
       "      <td>South Africa</td>\n",
       "    </tr>\n",
       "    <tr>\n",
       "      <th>2</th>\n",
       "      <td>3</td>\n",
       "      <td>Leon</td>\n",
       "      <td>Glen</td>\n",
       "      <td>Male</td>\n",
       "      <td>81 Evarton Rd,Gillits</td>\n",
       "      <td>820822830</td>\n",
       "      <td>leon@gmail.com</td>\n",
       "      <td>Durban</td>\n",
       "      <td>South Africa</td>\n",
       "    </tr>\n",
       "    <tr>\n",
       "      <th>3</th>\n",
       "      <td>4</td>\n",
       "      <td>Charl</td>\n",
       "      <td>Muller</td>\n",
       "      <td>Male</td>\n",
       "      <td>290A Dorset Ecke</td>\n",
       "      <td>44856872553</td>\n",
       "      <td>Charl.muller@yahoo.com</td>\n",
       "      <td>Berlin</td>\n",
       "      <td>Germany</td>\n",
       "    </tr>\n",
       "    <tr>\n",
       "      <th>4</th>\n",
       "      <td>5</td>\n",
       "      <td>Julia</td>\n",
       "      <td>Stein</td>\n",
       "      <td>Female</td>\n",
       "      <td>2 Wernerring</td>\n",
       "      <td>448672445058</td>\n",
       "      <td>Js234@yahoo.com</td>\n",
       "      <td>Frankfurt</td>\n",
       "      <td>Germany</td>\n",
       "    </tr>\n",
       "  </tbody>\n",
       "</table>\n",
       "</div>"
      ],
      "text/plain": [
       "   customerid firstname lastname  gender                address         phone  \\\n",
       "0           1      John   Hibert    Male         284 chaucer st      84789657   \n",
       "1           2    Thando  Sithole  Female                  Clerk     794445584   \n",
       "2           3      Leon     Glen    Male  81 Evarton Rd,Gillits     820822830   \n",
       "3           4     Charl   Muller    Male       290A Dorset Ecke   44856872553   \n",
       "4           5     Julia    Stein  Female           2 Wernerring  448672445058   \n",
       "\n",
       "                    email          City       Country  \n",
       "0          john@gmail.com  Johannesburg  South Africa  \n",
       "1        thando@gmail.com     Cape Town  South Africa  \n",
       "2          leon@gmail.com        Durban  South Africa  \n",
       "3  Charl.muller@yahoo.com        Berlin       Germany  \n",
       "4         Js234@yahoo.com     Frankfurt       Germany  "
      ]
     },
     "execution_count": 5,
     "metadata": {},
     "output_type": "execute_result"
    }
   ],
   "source": [
    "Customers = create_pandas_table(\"SELECT * FROM Customers\")\n",
    "Customers"
   ]
  },
  {
   "cell_type": "code",
   "execution_count": 6,
   "metadata": {},
   "outputs": [
    {
     "data": {
      "text/html": [
       "<div>\n",
       "<style scoped>\n",
       "    .dataframe tbody tr th:only-of-type {\n",
       "        vertical-align: middle;\n",
       "    }\n",
       "\n",
       "    .dataframe tbody tr th {\n",
       "        vertical-align: top;\n",
       "    }\n",
       "\n",
       "    .dataframe thead th {\n",
       "        text-align: right;\n",
       "    }\n",
       "</style>\n",
       "<table border=\"1\" class=\"dataframe\">\n",
       "  <thead>\n",
       "    <tr style=\"text-align: right;\">\n",
       "      <th></th>\n",
       "      <th>employeeid</th>\n",
       "      <th>firstname</th>\n",
       "      <th>lastname</th>\n",
       "      <th>email</th>\n",
       "      <th>jobtitle</th>\n",
       "    </tr>\n",
       "  </thead>\n",
       "  <tbody>\n",
       "    <tr>\n",
       "      <th>0</th>\n",
       "      <td>1</td>\n",
       "      <td>Kani</td>\n",
       "      <td>Matthew</td>\n",
       "      <td>mat@gmail.com</td>\n",
       "      <td>Manager</td>\n",
       "    </tr>\n",
       "    <tr>\n",
       "      <th>1</th>\n",
       "      <td>2</td>\n",
       "      <td>Lesly</td>\n",
       "      <td>Cronje</td>\n",
       "      <td>LesC@gmail.com</td>\n",
       "      <td>Clerk</td>\n",
       "    </tr>\n",
       "    <tr>\n",
       "      <th>2</th>\n",
       "      <td>3</td>\n",
       "      <td>Gideon</td>\n",
       "      <td>Maduku</td>\n",
       "      <td>m@gmail.com</td>\n",
       "      <td>Accountant</td>\n",
       "    </tr>\n",
       "  </tbody>\n",
       "</table>\n",
       "</div>"
      ],
      "text/plain": [
       "   employeeid firstname lastname           email    jobtitle\n",
       "0           1      Kani  Matthew   mat@gmail.com     Manager\n",
       "1           2     Lesly   Cronje  LesC@gmail.com       Clerk\n",
       "2           3    Gideon   Maduku     m@gmail.com  Accountant"
      ]
     },
     "execution_count": 6,
     "metadata": {},
     "output_type": "execute_result"
    }
   ],
   "source": [
    "Employees = create_pandas_table(\"SELECT * FROM Employees\")\n",
    "Employees"
   ]
  },
  {
   "cell_type": "code",
   "execution_count": 7,
   "metadata": {},
   "outputs": [
    {
     "data": {
      "text/html": [
       "<div>\n",
       "<style scoped>\n",
       "    .dataframe tbody tr th:only-of-type {\n",
       "        vertical-align: middle;\n",
       "    }\n",
       "\n",
       "    .dataframe tbody tr th {\n",
       "        vertical-align: top;\n",
       "    }\n",
       "\n",
       "    .dataframe thead th {\n",
       "        text-align: right;\n",
       "    }\n",
       "</style>\n",
       "<table border=\"1\" class=\"dataframe\">\n",
       "  <thead>\n",
       "    <tr style=\"text-align: right;\">\n",
       "      <th></th>\n",
       "      <th>orderid</th>\n",
       "      <th>productid</th>\n",
       "      <th>paymentid</th>\n",
       "      <th>fulfilledbyemployeeid</th>\n",
       "      <th>daterequired</th>\n",
       "      <th>dateshipped</th>\n",
       "      <th>status</th>\n",
       "    </tr>\n",
       "  </thead>\n",
       "  <tbody>\n",
       "    <tr>\n",
       "      <th>0</th>\n",
       "      <td>1</td>\n",
       "      <td>1</td>\n",
       "      <td>1</td>\n",
       "      <td>2</td>\n",
       "      <td>2018-09-05</td>\n",
       "      <td>NaT</td>\n",
       "      <td>Not shipped</td>\n",
       "    </tr>\n",
       "    <tr>\n",
       "      <th>1</th>\n",
       "      <td>2</td>\n",
       "      <td>1</td>\n",
       "      <td>2</td>\n",
       "      <td>2</td>\n",
       "      <td>2018-04-09</td>\n",
       "      <td>2018-03-09</td>\n",
       "      <td>Shipped</td>\n",
       "    </tr>\n",
       "    <tr>\n",
       "      <th>2</th>\n",
       "      <td>3</td>\n",
       "      <td>3</td>\n",
       "      <td>3</td>\n",
       "      <td>3</td>\n",
       "      <td>2018-09-06</td>\n",
       "      <td>NaT</td>\n",
       "      <td>Not shipped</td>\n",
       "    </tr>\n",
       "  </tbody>\n",
       "</table>\n",
       "</div>"
      ],
      "text/plain": [
       "   orderid  productid  paymentid  fulfilledbyemployeeid daterequired  \\\n",
       "0        1          1          1                      2   2018-09-05   \n",
       "1        2          1          2                      2   2018-04-09   \n",
       "2        3          3          3                      3   2018-09-06   \n",
       "\n",
       "  dateshipped       status  \n",
       "0         NaT  Not shipped  \n",
       "1  2018-03-09      Shipped  \n",
       "2         NaT  Not shipped  "
      ]
     },
     "execution_count": 7,
     "metadata": {},
     "output_type": "execute_result"
    }
   ],
   "source": [
    "Orders = create_pandas_table(\"SELECT * FROM Orders\")\n",
    "Orders"
   ]
  },
  {
   "cell_type": "code",
   "execution_count": 8,
   "metadata": {},
   "outputs": [
    {
     "data": {
      "text/html": [
       "<div>\n",
       "<style scoped>\n",
       "    .dataframe tbody tr th:only-of-type {\n",
       "        vertical-align: middle;\n",
       "    }\n",
       "\n",
       "    .dataframe tbody tr th {\n",
       "        vertical-align: top;\n",
       "    }\n",
       "\n",
       "    .dataframe thead th {\n",
       "        text-align: right;\n",
       "    }\n",
       "</style>\n",
       "<table border=\"1\" class=\"dataframe\">\n",
       "  <thead>\n",
       "    <tr style=\"text-align: right;\">\n",
       "      <th></th>\n",
       "      <th>customerid</th>\n",
       "      <th>paymentid</th>\n",
       "      <th>paymentdate</th>\n",
       "      <th>amount</th>\n",
       "    </tr>\n",
       "  </thead>\n",
       "  <tbody>\n",
       "    <tr>\n",
       "      <th>0</th>\n",
       "      <td>1</td>\n",
       "      <td>1</td>\n",
       "      <td>2018-01-09</td>\n",
       "      <td>150.75</td>\n",
       "    </tr>\n",
       "    <tr>\n",
       "      <th>1</th>\n",
       "      <td>5</td>\n",
       "      <td>2</td>\n",
       "      <td>2018-03-09</td>\n",
       "      <td>150.75</td>\n",
       "    </tr>\n",
       "    <tr>\n",
       "      <th>2</th>\n",
       "      <td>4</td>\n",
       "      <td>3</td>\n",
       "      <td>2018-03-09</td>\n",
       "      <td>700.60</td>\n",
       "    </tr>\n",
       "  </tbody>\n",
       "</table>\n",
       "</div>"
      ],
      "text/plain": [
       "   customerid  paymentid paymentdate  amount\n",
       "0           1          1  2018-01-09  150.75\n",
       "1           5          2  2018-03-09  150.75\n",
       "2           4          3  2018-03-09  700.60"
      ]
     },
     "execution_count": 8,
     "metadata": {},
     "output_type": "execute_result"
    }
   ],
   "source": [
    "Payments = create_pandas_table(\"SELECT * FROM Payments\")\n",
    "Payments"
   ]
  },
  {
   "cell_type": "code",
   "execution_count": 9,
   "metadata": {},
   "outputs": [
    {
     "data": {
      "text/html": [
       "<div>\n",
       "<style scoped>\n",
       "    .dataframe tbody tr th:only-of-type {\n",
       "        vertical-align: middle;\n",
       "    }\n",
       "\n",
       "    .dataframe tbody tr th {\n",
       "        vertical-align: top;\n",
       "    }\n",
       "\n",
       "    .dataframe thead th {\n",
       "        text-align: right;\n",
       "    }\n",
       "</style>\n",
       "<table border=\"1\" class=\"dataframe\">\n",
       "  <thead>\n",
       "    <tr style=\"text-align: right;\">\n",
       "      <th></th>\n",
       "      <th>productid</th>\n",
       "      <th>productname</th>\n",
       "      <th>description</th>\n",
       "      <th>buyprice</th>\n",
       "    </tr>\n",
       "  </thead>\n",
       "  <tbody>\n",
       "    <tr>\n",
       "      <th>0</th>\n",
       "      <td>1</td>\n",
       "      <td>Harley Davidson Chopper</td>\n",
       "      <td>This replica features working kickstand, front...</td>\n",
       "      <td>150.75</td>\n",
       "    </tr>\n",
       "    <tr>\n",
       "      <th>1</th>\n",
       "      <td>2</td>\n",
       "      <td>Classic Car</td>\n",
       "      <td>Turnable front wheels, steering function</td>\n",
       "      <td>550.75</td>\n",
       "    </tr>\n",
       "    <tr>\n",
       "      <th>2</th>\n",
       "      <td>3</td>\n",
       "      <td>Sports car</td>\n",
       "      <td>Turnable front wheels, steering function</td>\n",
       "      <td>700.60</td>\n",
       "    </tr>\n",
       "  </tbody>\n",
       "</table>\n",
       "</div>"
      ],
      "text/plain": [
       "   productid              productname  \\\n",
       "0          1  Harley Davidson Chopper   \n",
       "1          2              Classic Car   \n",
       "2          3               Sports car   \n",
       "\n",
       "                                         description  buyprice  \n",
       "0  This replica features working kickstand, front...    150.75  \n",
       "1           Turnable front wheels, steering function    550.75  \n",
       "2           Turnable front wheels, steering function    700.60  "
      ]
     },
     "execution_count": 9,
     "metadata": {},
     "output_type": "execute_result"
    }
   ],
   "source": [
    "Products = create_pandas_table(\"SELECT * FROM Products\")\n",
    "Products"
   ]
  },
  {
   "cell_type": "markdown",
   "metadata": {},
   "source": [
    "# The following are the commands as they were inputed on the SQL command for the creation and population of the table."
   ]
  },
  {
   "cell_type": "code",
   "execution_count": 10,
   "metadata": {},
   "outputs": [],
   "source": [
    "# CREATE TABLE Customers(\n",
    "\n",
    "#     CustomerID SERIAL PRIMARY KEY,\n",
    "#     FirstName varchar(50),\n",
    "#     LastName varchar(50),\n",
    "#     Gender varchar,\n",
    "#     Address varchar(200),\n",
    "#     Phone bigint,\n",
    "#     Email varchar(100),\n",
    "#     City varchar(20),\n",
    "#     Country varchar(50)\n",
    "# );\n",
    "\n",
    "# INSERT INTO Customers VALUES(1,'John', 'Hibert', 'Male', '284 chaucer st', '084789657','john@gmail.com', 'Johannesburg', 'South Africa');\n",
    "# INSERT INTO Customers VALUES(2,'Thando', 'Sithole', 'Female', '240 Sect 1', '0794445584', 'thando@gmail.com', 'Cape Town', 'South Africa');\n",
    "# INSERT INTO Customers VALUES(3,'Leon', 'Glen', 'Male', '81 Everton Rd,Gillits', '0820832830', 'Leon@gmail.com', 'Durban', 'South Africa');\n",
    "# INSERT INTO Customers VALUES(4,'Charl', 'Muller', 'Male', '290A Dorset Ecke', '+44856872553', 'Charl.muller@yahoo.com', 'Berlin', 'Germany');\n",
    "# INSERT INTO Customers VALUES(5,'Julia', 'Stein', 'Female', '2 Wernerring', '+448672445058', 'Js234@yahoo.com', 'Frankfurt', 'Germany')\n",
    "\n",
    "\n",
    "\n",
    "# CREATE TABLE Emloyees(\n",
    "#     EmployeeID SERIAL PRIMARY KEY,\n",
    "#     FirstName varchar(50),\n",
    "#     LastName varchar(50),\n",
    "#     Address varchar(200),\n",
    "#     Email varchar(100),\n",
    "#     JobTitle varchar(20)\n",
    "# );\n",
    "\n",
    "# INSERT INTO Employees VALUES(1,'Kani', 'Matthew', 'mat@gmail.com', 'Manager');\n",
    "# INSERT INTO Employees VALUES(2,'Lesly', 'Cronje', 'LesC@gmail.com', 'Clerk');\n",
    "# INSERT INTO Employees VALUES(3,'Gideon', 'Maduku', 'm@gmail.com', 'Accountant')\n",
    "\n",
    "# CREATE TABLE Orders(\n",
    "#     OrderId SERIAL PRIMARY KEY,\n",
    "#     ProductID int,\n",
    "#     PaymentID int,\n",
    "#     FulfilledByEmployeeID int,\n",
    "#     DateRequired timestamp,\n",
    "#     DateShipped timestamp,\n",
    "#     Status varchar(20),\n",
    "# );\n",
    "\n",
    "# INSERT INTO Orders VALUES(1, 1, 1, 2, '05-09-2018', 'Nul', 'Not shipped');\n",
    "# INSERT INTO Orders VALUES(2, 1, 2, 2, '04-09-2018', '03-09-2018', 'Shipped');\n",
    "# INSERT INTO Orders VALUES(3, 3, 3, 3, '06-09-2018','Nul', 'Not shipped')\n",
    "\n",
    "# CREATE TABLE Payments(\n",
    "#     CustomerId SERIAL PRIMARY KEY,\n",
    "#     PaymentID int,\n",
    "#     PaymentDate timestamp,\n",
    "#     Amount decimal,\n",
    "#     FOREIGN KEY(PaymentID) REFERENCES Orders(OrderId)\n",
    "# );\n",
    "\n",
    "# INSERT INTO Payments VALUES(1, 1, '01-09-2018', 150.75);\n",
    "# INSERT INTO Payments VALUES(5, 2, '03-09-2018', 150.75);\n",
    "# INSERT INTO Payments VALUES(4, 3, '03-09-2018', 700.60)\n",
    "\n",
    "# CREATE TABLE Products(\n",
    "#     ProductID SERIAL PRIMARY KEY,\n",
    "#     ProductName varchar(100),\n",
    "#     Description varchar(300),\n",
    "#     BuyPrice decimal,\n",
    "#     FOREIGN KEY(ProductID) REFERENCES Orders(OrderId)\n",
    "# );\n",
    "\n",
    "# INSERT INTO Products VALUES(1, 'Harley Davidson Chopper', 'This replica features working kickstand, front suspension, gear-shift lever', 150.75);\n",
    "# INSERT INTO Products VALUES(2, 'Classic Car', 'Turnable front wheels, steering function', 550.75);\n",
    "# INSERT INTO Products VALUES(3, 'Sports car', 'Turnable front wheels, steering function', 700.60)\n",
    "\n"
   ]
  },
  {
   "cell_type": "markdown",
   "metadata": {},
   "source": [
    "# PART 2\n",
    "The following queries are in relation to the above tables created. This is to see if we can extract specific data from the tables using SQL commancds and functions."
   ]
  },
  {
   "cell_type": "code",
   "execution_count": 19,
   "metadata": {},
   "outputs": [],
   "source": [
    "#1.SELECT ALL records from table Customers.\n",
    "import sys\n",
    "import sqlite3"
   ]
  },
  {
   "cell_type": "code",
   "execution_count": 20,
   "metadata": {
    "scrolled": true
   },
   "outputs": [
    {
     "name": "stderr",
     "output_type": "stream",
     "text": [
      "UsageError: Line magic function `%sql` not found.\n"
     ]
    }
   ],
   "source": [
    "%sql SELECT * FROM Customers"
   ]
  },
  {
   "cell_type": "code",
   "execution_count": 21,
   "metadata": {},
   "outputs": [
    {
     "ename": "SyntaxError",
     "evalue": "invalid syntax (<ipython-input-21-ca2211544309>, line 2)",
     "output_type": "error",
     "traceback": [
      "\u001b[0;36m  File \u001b[0;32m\"<ipython-input-21-ca2211544309>\"\u001b[0;36m, line \u001b[0;32m2\u001b[0m\n\u001b[0;31m    SELECT FirstName, LastName\u001b[0m\n\u001b[0m                   ^\u001b[0m\n\u001b[0;31mSyntaxError\u001b[0m\u001b[0;31m:\u001b[0m invalid syntax\n"
     ]
    }
   ],
   "source": [
    "#2. SELECT records only from the name column in the Customers table.\n",
    "SELECT FirstName, LastName\n",
    "FROM Customers;"
   ]
  },
  {
   "cell_type": "code",
   "execution_count": 22,
   "metadata": {},
   "outputs": [
    {
     "ename": "SyntaxError",
     "evalue": "invalid syntax (<ipython-input-22-9f85c021b889>, line 2)",
     "output_type": "error",
     "traceback": [
      "\u001b[0;36m  File \u001b[0;32m\"<ipython-input-22-9f85c021b889>\"\u001b[0;36m, line \u001b[0;32m2\u001b[0m\n\u001b[0;31m    SELECT FirstName, LastName\u001b[0m\n\u001b[0m                   ^\u001b[0m\n\u001b[0;31mSyntaxError\u001b[0m\u001b[0;31m:\u001b[0m invalid syntax\n"
     ]
    }
   ],
   "source": [
    "#3. Show the name of the Customer whose CustomerID is 1.\n",
    "SELECT FirstName, LastName\n",
    "FROM Customers\n",
    "WHERE CustomerID = 1;\n"
   ]
  },
  {
   "cell_type": "code",
   "execution_count": 23,
   "metadata": {},
   "outputs": [
    {
     "ename": "SyntaxError",
     "evalue": "invalid syntax (<ipython-input-23-77dcb9b3f302>, line 2)",
     "output_type": "error",
     "traceback": [
      "\u001b[0;36m  File \u001b[0;32m\"<ipython-input-23-77dcb9b3f302>\"\u001b[0;36m, line \u001b[0;32m2\u001b[0m\n\u001b[0;31m    UPDATE Customers\u001b[0m\n\u001b[0m                   ^\u001b[0m\n\u001b[0;31mSyntaxError\u001b[0m\u001b[0;31m:\u001b[0m invalid syntax\n"
     ]
    }
   ],
   "source": [
    "#4. UPDATE the record for CustomerID = 1 on the Customer table so that the name is “Lerato Mabitso”.\n",
    "UPDATE Customers\n",
    "SET FirstName = 'Lerato', LastName = 'Mabitso'\n",
    "Where CustomerId = 1;\n"
   ]
  },
  {
   "cell_type": "code",
   "execution_count": 24,
   "metadata": {},
   "outputs": [
    {
     "ename": "SyntaxError",
     "evalue": "invalid syntax (<ipython-input-24-58b0a59239b4>, line 2)",
     "output_type": "error",
     "traceback": [
      "\u001b[0;36m  File \u001b[0;32m\"<ipython-input-24-58b0a59239b4>\"\u001b[0;36m, line \u001b[0;32m2\u001b[0m\n\u001b[0;31m    DELETE FROM Customers\u001b[0m\n\u001b[0m              ^\u001b[0m\n\u001b[0;31mSyntaxError\u001b[0m\u001b[0;31m:\u001b[0m invalid syntax\n"
     ]
    }
   ],
   "source": [
    "#5. DELETE the record from the Customers table for customer 2 (CustomerID = 2).\n",
    "DELETE FROM Customers\n",
    "WHERE CustomerID =2;"
   ]
  },
  {
   "cell_type": "code",
   "execution_count": 25,
   "metadata": {},
   "outputs": [
    {
     "ename": "SyntaxError",
     "evalue": "invalid syntax (<ipython-input-25-365578a0ea9e>, line 2)",
     "output_type": "error",
     "traceback": [
      "\u001b[0;36m  File \u001b[0;32m\"<ipython-input-25-365578a0ea9e>\"\u001b[0;36m, line \u001b[0;32m2\u001b[0m\n\u001b[0;31m    Select DISTINCT Status\u001b[0m\n\u001b[0m                  ^\u001b[0m\n\u001b[0;31mSyntaxError\u001b[0m\u001b[0;31m:\u001b[0m invalid syntax\n"
     ]
    }
   ],
   "source": [
    "#6. Select all unique statuses from the Orders table and get a count of the number of orders for each unique status.\n",
    "Select DISTINCT Status\n",
    "FROM Orders and COUNT Status;"
   ]
  },
  {
   "cell_type": "code",
   "execution_count": 26,
   "metadata": {},
   "outputs": [
    {
     "ename": "SyntaxError",
     "evalue": "invalid syntax (<ipython-input-26-66f0266c970b>, line 2)",
     "output_type": "error",
     "traceback": [
      "\u001b[0;36m  File \u001b[0;32m\"<ipython-input-26-66f0266c970b>\"\u001b[0;36m, line \u001b[0;32m2\u001b[0m\n\u001b[0;31m    SELECT MAX(Amount)\u001b[0m\n\u001b[0m             ^\u001b[0m\n\u001b[0;31mSyntaxError\u001b[0m\u001b[0;31m:\u001b[0m invalid syntax\n"
     ]
    }
   ],
   "source": [
    "#7. Return the MAXIMUM payment made on the PAYMENTS table.\n",
    "SELECT MAX(Amount)\n",
    "FROM Payments;"
   ]
  },
  {
   "cell_type": "code",
   "execution_count": 27,
   "metadata": {},
   "outputs": [
    {
     "ename": "SyntaxError",
     "evalue": "invalid syntax (<ipython-input-27-2ec03d7c5f3d>, line 2)",
     "output_type": "error",
     "traceback": [
      "\u001b[0;36m  File \u001b[0;32m\"<ipython-input-27-2ec03d7c5f3d>\"\u001b[0;36m, line \u001b[0;32m2\u001b[0m\n\u001b[0;31m    SELECT CustomerID\u001b[0m\n\u001b[0m                    ^\u001b[0m\n\u001b[0;31mSyntaxError\u001b[0m\u001b[0;31m:\u001b[0m invalid syntax\n"
     ]
    }
   ],
   "source": [
    "#8. Select all customers from the “Customers” table, sorted by the “Country” column.\n",
    "SELECT CustomerID\n",
    "FROM Customers\n",
    "ORDER BY Country;"
   ]
  },
  {
   "cell_type": "code",
   "execution_count": 28,
   "metadata": {},
   "outputs": [
    {
     "ename": "SyntaxError",
     "evalue": "invalid syntax (<ipython-input-28-c16f2d805143>, line 2)",
     "output_type": "error",
     "traceback": [
      "\u001b[0;36m  File \u001b[0;32m\"<ipython-input-28-c16f2d805143>\"\u001b[0;36m, line \u001b[0;32m2\u001b[0m\n\u001b[0;31m    SELECT BuyPrice\u001b[0m\n\u001b[0m                  ^\u001b[0m\n\u001b[0;31mSyntaxError\u001b[0m\u001b[0;31m:\u001b[0m invalid syntax\n"
     ]
    }
   ],
   "source": [
    "#9. Select all products with a price BETWEEN R100 and R600.\n",
    "SELECT BuyPrice\n",
    "FROM Products\n",
    "Where BuyPrice BETWEEN 100 and 600;"
   ]
  },
  {
   "cell_type": "code",
   "execution_count": 29,
   "metadata": {},
   "outputs": [
    {
     "ename": "SyntaxError",
     "evalue": "invalid syntax (<ipython-input-29-b29171af6570>, line 2)",
     "output_type": "error",
     "traceback": [
      "\u001b[0;36m  File \u001b[0;32m\"<ipython-input-29-b29171af6570>\"\u001b[0;36m, line \u001b[0;32m2\u001b[0m\n\u001b[0;31m    SELECT City, Country FROM Customers\u001b[0m\n\u001b[0m              ^\u001b[0m\n\u001b[0;31mSyntaxError\u001b[0m\u001b[0;31m:\u001b[0m invalid syntax\n"
     ]
    }
   ],
   "source": [
    "#10. Select all fields from “Customers” where country is “Germany” AND city is “Berlin”.\n",
    "SELECT City, Country FROM Customers\n",
    "WHERE Country = 'Germany' AND City = 'Berlin';"
   ]
  },
  {
   "cell_type": "code",
   "execution_count": 30,
   "metadata": {},
   "outputs": [
    {
     "ename": "SyntaxError",
     "evalue": "invalid syntax (<ipython-input-30-8c7cd3d9589b>, line 2)",
     "output_type": "error",
     "traceback": [
      "\u001b[0;36m  File \u001b[0;32m\"<ipython-input-30-8c7cd3d9589b>\"\u001b[0;36m, line \u001b[0;32m2\u001b[0m\n\u001b[0;31m    SELECT City, Country FROM Customer\u001b[0m\n\u001b[0m              ^\u001b[0m\n\u001b[0;31mSyntaxError\u001b[0m\u001b[0;31m:\u001b[0m invalid syntax\n"
     ]
    }
   ],
   "source": [
    "#11. Select all fields from “Customers” where city is “Cape Town” OR “Durban”.\n",
    "SELECT City, Country FROM Customer\n",
    "WHERE City = 'Cape Town' OR City = 'Durban';"
   ]
  },
  {
   "cell_type": "code",
   "execution_count": 31,
   "metadata": {},
   "outputs": [
    {
     "ename": "SyntaxError",
     "evalue": "invalid syntax (<ipython-input-31-7bb55314d25b>, line 2)",
     "output_type": "error",
     "traceback": [
      "\u001b[0;36m  File \u001b[0;32m\"<ipython-input-31-7bb55314d25b>\"\u001b[0;36m, line \u001b[0;32m2\u001b[0m\n\u001b[0;31m    SELECT BuyPrice FROM Products\u001b[0m\n\u001b[0m                  ^\u001b[0m\n\u001b[0;31mSyntaxError\u001b[0m\u001b[0;31m:\u001b[0m invalid syntax\n"
     ]
    }
   ],
   "source": [
    "#12. Select all records from Products where the Price is GREATER than R500.\n",
    "SELECT BuyPrice FROM Products\n",
    "WHERE BuyPrice > 500;"
   ]
  },
  {
   "cell_type": "code",
   "execution_count": 32,
   "metadata": {},
   "outputs": [
    {
     "ename": "SyntaxError",
     "evalue": "invalid syntax (<ipython-input-32-26b057c88a49>, line 2)",
     "output_type": "error",
     "traceback": [
      "\u001b[0;36m  File \u001b[0;32m\"<ipython-input-32-26b057c88a49>\"\u001b[0;36m, line \u001b[0;32m2\u001b[0m\n\u001b[0;31m    SELECT SUM(Amounts)\u001b[0m\n\u001b[0m             ^\u001b[0m\n\u001b[0;31mSyntaxError\u001b[0m\u001b[0;31m:\u001b[0m invalid syntax\n"
     ]
    }
   ],
   "source": [
    "#13. Return the sum of the Amounts on the Payments table.\n",
    "SELECT SUM(Amounts)\n",
    "FROM Payments;"
   ]
  },
  {
   "cell_type": "code",
   "execution_count": 33,
   "metadata": {},
   "outputs": [
    {
     "ename": "SyntaxError",
     "evalue": "invalid syntax (<ipython-input-33-66a047e1646f>, line 2)",
     "output_type": "error",
     "traceback": [
      "\u001b[0;36m  File \u001b[0;32m\"<ipython-input-33-66a047e1646f>\"\u001b[0;36m, line \u001b[0;32m2\u001b[0m\n\u001b[0;31m    SELECT COUNT(DateShipped)\u001b[0m\n\u001b[0m               ^\u001b[0m\n\u001b[0;31mSyntaxError\u001b[0m\u001b[0;31m:\u001b[0m invalid syntax\n"
     ]
    }
   ],
   "source": [
    "#14. Count the number of shipped orders in the Orders table.\n",
    "SELECT COUNT(DateShipped)\n",
    "FROM Orders;"
   ]
  },
  {
   "cell_type": "code",
   "execution_count": 34,
   "metadata": {},
   "outputs": [
    {
     "ename": "SyntaxError",
     "evalue": "invalid syntax (<ipython-input-34-39bfea4eea4b>, line 2)",
     "output_type": "error",
     "traceback": [
      "\u001b[0;36m  File \u001b[0;32m\"<ipython-input-34-39bfea4eea4b>\"\u001b[0;36m, line \u001b[0;32m2\u001b[0m\n\u001b[0;31m    SELECT AVG(BuyPrice) AS 'Rands', AVG(BuyPrice/12) AS 'Dollars';\u001b[0m\n\u001b[0m             ^\u001b[0m\n\u001b[0;31mSyntaxError\u001b[0m\u001b[0;31m:\u001b[0m invalid syntax\n"
     ]
    }
   ],
   "source": [
    "#15. Return the average price of all Products, in Rands and in Dollars (assume the exchange rate is R12 to the Dollar).\n",
    "SELECT AVG(BuyPrice) AS 'Rands', AVG(BuyPrice/12) AS 'Dollars';"
   ]
  },
  {
   "cell_type": "code",
   "execution_count": 35,
   "metadata": {},
   "outputs": [
    {
     "ename": "SyntaxError",
     "evalue": "invalid syntax (<ipython-input-35-347c8023d33a>, line 2)",
     "output_type": "error",
     "traceback": [
      "\u001b[0;36m  File \u001b[0;32m\"<ipython-input-35-347c8023d33a>\"\u001b[0;36m, line \u001b[0;32m2\u001b[0m\n\u001b[0;31m    SELECT Customers FROM Payments\u001b[0m\n\u001b[0m                   ^\u001b[0m\n\u001b[0;31mSyntaxError\u001b[0m\u001b[0;31m:\u001b[0m invalid syntax\n"
     ]
    }
   ],
   "source": [
    "#16. Using INNER JOIN create a query that selects all Payments with Customer information.\n",
    "SELECT Customers FROM Payments\n",
    "INNER JOIN Customers\n",
    "ON Payments  = Customers;"
   ]
  },
  {
   "cell_type": "code",
   "execution_count": 36,
   "metadata": {},
   "outputs": [
    {
     "ename": "SyntaxError",
     "evalue": "invalid syntax (<ipython-input-36-6718c3a57561>, line 2)",
     "output_type": "error",
     "traceback": [
      "\u001b[0;36m  File \u001b[0;32m\"<ipython-input-36-6718c3a57561>\"\u001b[0;36m, line \u001b[0;32m2\u001b[0m\n\u001b[0;31m    SELECT Description\u001b[0m\n\u001b[0m                     ^\u001b[0m\n\u001b[0;31mSyntaxError\u001b[0m\u001b[0;31m:\u001b[0m invalid syntax\n"
     ]
    }
   ],
   "source": [
    "#17. Select all products that have turnable front wheels.\n",
    "SELECT Description\n",
    "FROM Products\n",
    "WHERE Description = 'Turnable front wheels',"
   ]
  },
  {
   "cell_type": "code",
   "execution_count": null,
   "metadata": {},
   "outputs": [],
   "source": []
  }
 ],
 "metadata": {
  "kernelspec": {
   "display_name": "Python 3",
   "language": "python",
   "name": "python3"
  },
  "language_info": {
   "codemirror_mode": {
    "name": "ipython",
    "version": 3
   },
   "file_extension": ".py",
   "mimetype": "text/x-python",
   "name": "python",
   "nbconvert_exporter": "python",
   "pygments_lexer": "ipython3",
   "version": "3.7.3"
  }
 },
 "nbformat": 4,
 "nbformat_minor": 2
}
